{
  "cells": [
    {
      "cell_type": "markdown",
      "metadata": {
        "id": "view-in-github",
        "colab_type": "text"
      },
      "source": [
        "<a href=\"https://colab.research.google.com/github/drewwint/Learning/blob/main/ab_hands_on_exercises.ipynb\" target=\"_parent\"><img src=\"https://colab.research.google.com/assets/colab-badge.svg\" alt=\"Open In Colab\"/></a>"
      ]
    },
    {
      "cell_type": "markdown",
      "id": "1ee1f9cf",
      "metadata": {
        "id": "1ee1f9cf"
      },
      "source": [
        "# A/B Hands-On Exercises"
      ]
    },
    {
      "cell_type": "code",
      "execution_count": null,
      "id": "5c098135",
      "metadata": {
        "id": "5c098135"
      },
      "outputs": [],
      "source": [
        "import arviz as az\n",
        "import matplotlib.pyplot as plt\n",
        "import numpy as np\n",
        "import pandas as pd\n",
        "import pymc as pm\n",
        "import scipy\n",
        "import seaborn as sns\n",
        "from scipy import stats"
      ]
    },
    {
      "cell_type": "markdown",
      "id": "93041740",
      "metadata": {
        "id": "93041740"
      },
      "source": [
        "## Exercise 1: Match the functionality with the library\n",
        "This is a classic matching exercise. The libraries in this course are used quite often, so a quick recall of which one does what will aid in your learning across all lessons.\n",
        "\n",
        "From the imports above match which library or libraries\n",
        "  1. is used to define models\n",
        "  2. provides the data container for model results\n",
        "  3. are used for plotting\n",
        "  4. is specialized for Bayesian plotting\n",
        "  5. is specialized for data manipulation and cleaning"
      ]
    },
    {
      "cell_type": "markdown",
      "id": "80f3144e",
      "metadata": {
        "id": "80f3144e"
      },
      "source": [
        "## Exercise 2: Estimate conversion for Website A\n",
        "We've launched a new website and your boss wants you to estimate the conversion rate. Your boss tells you that there wasn't a lot of money for testing the new website, so you only have 20 data points for the new website, **Website A**.\n",
        "\n",
        "### Part 1: Estimating `p(Conversion)`\n",
        "\n",
        "Give your boss an estimate of conversion rate in two ways:\n",
        "\n",
        "1. Calculate the point value of percentage conversion from pandas or plain python\n",
        "  * This is what most people would do using Excel\n",
        "2. Use the model from the A/B testing lesson and give her an estimate with uncertainty\n",
        "  * Hint: The posterior plot will be quite helpful"
      ]
    },
    {
      "cell_type": "code",
      "execution_count": null,
      "id": "06eb3516",
      "metadata": {
        "id": "06eb3516"
      },
      "outputs": [],
      "source": [
        "# websites = pd.read_csv(\"data/websites.csv\")\n",
        "url_control_websites = \"https://raw.githubusercontent.com/drewwint/Learning/refs/heads/main/Intuative_Bayes/IntroductoryCourse-main/IntroductoryCourse-main/lesson_code/3_AB_Hands_On/data/websites.csv\"\n",
        "websites = pd.read_csv(url_control_websites)\n",
        "websites.head(20)"
      ]
    },
    {
      "cell_type": "code",
      "execution_count": null,
      "id": "c9c6937a",
      "metadata": {
        "id": "c9c6937a"
      },
      "outputs": [],
      "source": [
        "website_a = websites[\"Website A\"]"
      ]
    },
    {
      "cell_type": "code",
      "execution_count": null,
      "id": "cee04a19",
      "metadata": {
        "id": "cee04a19"
      },
      "outputs": [],
      "source": [
        "# Calculate tthe point estimte of percentage\n",
        "ref_val_web_a = np.mean(website_a)\n",
        "ref_val_web_a"
      ]
    },
    {
      "cell_type": "code",
      "execution_count": null,
      "id": "c75720f7",
      "metadata": {
        "id": "c75720f7"
      },
      "outputs": [],
      "source": [
        "# Fill in the PyMC Model\n",
        "import pymc as pm\n",
        "\n",
        "with pm.Model() as model_website_a:\n",
        "    # Parameter = prior solution space\n",
        "    conversion_rate = pm.Beta(\"conversion_rate\", alpha=2, beta=10)\n",
        "\n",
        "    # Plausibility evaluator: likelihood function\n",
        "    n_website_a = pm.Binomial(\n",
        "        \"n_website_a\", p=conversion_rate, n=len(website_a), observed=website_a.sum()\n",
        "    )\n",
        "\n",
        "with model_website_a:\n",
        "    # Posterior solution space\n",
        "    plausible_values_website_a = pm.sample()"
      ]
    },
    {
      "cell_type": "code",
      "execution_count": null,
      "id": "c848445c",
      "metadata": {
        "id": "c848445c"
      },
      "outputs": [],
      "source": [
        "# Plot the posterior plot\n",
        "az.plot_posterior(plausible_values_website_a, ref_val=ref_val_web_a)"
      ]
    },
    {
      "cell_type": "markdown",
      "id": "875879b8",
      "metadata": {
        "id": "875879b8"
      },
      "source": [
        "### Part 2: The A/B test\n",
        "\n",
        "Your boss tells you there also wasn't any money for logging the control website, Website B, so you also only have 20 samples. Run the same analysis as before, but for Website B, and compare your results. Specifically:\n",
        "\n",
        "1. Calculate the point value of percentage conversion from pandas or plain python and draw a conclusion on which website is better.\n",
        "2. As a professional statistician you have to provide advice, not just code. Based on the point estimates would you feel comfortable telling your boss Website B is better (or worse)?\n",
        "3. Use your Bayesian model to also estimate the conversion rate with uncertainty. Use a forest plot to compare the results from the two models. If your boss asked which website has higher conversion, what would you advise now? How did you confidence-level in your recommendation change?"
      ]
    },
    {
      "cell_type": "code",
      "execution_count": null,
      "id": "2bf7a6af",
      "metadata": {
        "id": "2bf7a6af"
      },
      "outputs": [],
      "source": [
        "website_b = websites[\"Website B\"]"
      ]
    },
    {
      "cell_type": "code",
      "execution_count": null,
      "id": "aebb12e1",
      "metadata": {
        "id": "aebb12e1"
      },
      "outputs": [],
      "source": [
        "# Calculate the point value of percentage\n",
        "ref_val_web_b = website_b.mean()\n",
        "ref_val_web_b"
      ]
    },
    {
      "cell_type": "code",
      "execution_count": null,
      "id": "a1a881f0",
      "metadata": {
        "id": "a1a881f0"
      },
      "outputs": [],
      "source": [
        "# Create a Bayesian model for the conversion of Website B\n",
        "with pm.Model() as model_website_b:\n",
        "    # Parameter = prior solution space\n",
        "    conversion_rate = pm.Beta(\"conversion_rate\", alpha=2, beta=10)\n",
        "\n",
        "    # Plausibility evaluator: likelihood function\n",
        "    n_website_b = pm.Binomial(\n",
        "        \"n_website_b\", p=conversion_rate, n=len(website_b), observed=website_b.sum()\n",
        "    )\n",
        "\n",
        "with model_website_b:\n",
        "    # Posterior solution space\n",
        "    plausible_values_website_b = pm.sample()"
      ]
    },
    {
      "cell_type": "code",
      "execution_count": null,
      "id": "e19e00a6",
      "metadata": {
        "id": "e19e00a6"
      },
      "outputs": [],
      "source": [
        "# Compare the two. Hint: The forest plot is quite useful here\n",
        "# az.plot_posterior(plausible_values_website_b, ref_val=ref_val_web_b)\n",
        "\n",
        "# Compare them again\n",
        "az.plot_forest([plausible_values_website_a,plausible_values_website_b],\n",
        "               model_names=[\"Control\",\"Intervention\"],\n",
        "               combined=True,\n",
        "               figsize=(10,5))\n"
      ]
    },
    {
      "cell_type": "markdown",
      "id": "80787bf5",
      "metadata": {
        "id": "80787bf5"
      },
      "source": [
        "### Part 3: Rerun your analysis with more data\n",
        "You convince your boss that it's worth getting more samples. You warn her that if she doesn't invest in proper analysis she could lose out on millions of dollars in sales. She reluctantly agrees.\n",
        "\n",
        "Now you have 5000 samples for each website. Rerun your analysis from above, and now provide a recommendation as to which website has a better conversion rate."
      ]
    },
    {
      "cell_type": "code",
      "execution_count": null,
      "id": "def4a4e1",
      "metadata": {
        "id": "def4a4e1"
      },
      "outputs": [],
      "source": [
        "# websites = pd.read_csv(\"data/websites_5000_samples.csv\")\n",
        "url_control_websites = \"https://raw.githubusercontent.com/drewwint/Learning/refs/heads/main/Intuative_Bayes/IntroductoryCourse-main/IntroductoryCourse-main/lesson_code/3_AB_Hands_On/data/websites_5000_samples.csv\"\n",
        "websites = pd.read_csv(url_control_websites)\n",
        "websites.shape"
      ]
    },
    {
      "cell_type": "code",
      "execution_count": null,
      "id": "7447e0a1",
      "metadata": {
        "id": "7447e0a1"
      },
      "outputs": [],
      "source": [
        "website_a = websites[\"Website A\"]"
      ]
    },
    {
      "cell_type": "code",
      "execution_count": null,
      "id": "c2ebec91",
      "metadata": {
        "id": "c2ebec91"
      },
      "outputs": [],
      "source": [
        "# Create a model for Website A\n",
        "# Fill in the PyMC Model\n",
        "import pymc as pm\n",
        "\n",
        "with pm.Model() as model_website_a:\n",
        "    # Parameter = prior solution space\n",
        "    conversion_rate = pm.Beta(\"conversion_rate\", alpha=2, beta=10)\n",
        "\n",
        "    # Plausibility evaluator: likelihood function\n",
        "    n_website_a = pm.Binomial(\n",
        "        \"n_website_a\", p=conversion_rate, n=len(website_a), observed=website_a.sum()\n",
        "    )\n",
        "\n",
        "with model_website_a:\n",
        "    # Posterior solution space\n",
        "    plausible_values_website_a_5000 = pm.sample()"
      ]
    },
    {
      "cell_type": "code",
      "execution_count": null,
      "id": "1330f752",
      "metadata": {
        "id": "1330f752"
      },
      "outputs": [],
      "source": [
        "website_b = websites[\"Website B\"]"
      ]
    },
    {
      "cell_type": "code",
      "execution_count": null,
      "id": "3da08b18",
      "metadata": {
        "id": "3da08b18"
      },
      "outputs": [],
      "source": [
        "# Create a model for Website B\n",
        "# Create a Bayesian model for the conversion of Website B\n",
        "with pm.Model() as model_website_b:\n",
        "    # Parameter = prior solution space\n",
        "    conversion_rate = pm.Beta(\"conversion_rate\", alpha=2, beta=10)\n",
        "\n",
        "    # Plausibility evaluator: likelihood function\n",
        "    n_website_b = pm.Binomial(\n",
        "        \"n_website_a\", p=conversion_rate, n=len(website_b), observed=website_b.sum()\n",
        "    )\n",
        "\n",
        "with model_website_b:\n",
        "    # Posterior solution space\n",
        "    plausible_values_website_b_5000 = pm.sample()"
      ]
    },
    {
      "cell_type": "code",
      "execution_count": null,
      "id": "9e209d5e",
      "metadata": {
        "id": "9e209d5e"
      },
      "outputs": [],
      "source": [
        "# Compare them again\n",
        "az.plot_forest([plausible_values_website_a_5000,plausible_values_website_b_5000],\n",
        "               model_names=[\"Control\",\"Intervention\"],\n",
        "               combined=True,\n",
        "               figsize=(10,5))"
      ]
    },
    {
      "cell_type": "markdown",
      "id": "71c0207b",
      "metadata": {
        "id": "71c0207b"
      },
      "source": [
        "## Part 4: See the effect of more data\n",
        "You also want to check your own assumptions. Compare your estimation for conversion for Website A with 20 samples versus 5000 samples.\n",
        "\n",
        "1. Before writing any code, pause and ponder for a minute: would you be more certain or less certain with more data?\n",
        "2. Use a forest plot to compare your estimation from 20 samples with 5000. Do the results match your intuition?"
      ]
    },
    {
      "cell_type": "code",
      "execution_count": null,
      "id": "e052cfe4",
      "metadata": {
        "id": "e052cfe4"
      },
      "outputs": [],
      "source": [
        "# Compare the inference data objects\n",
        "\n",
        "diff = (\n",
        "    plausible_values_website_b_5000.posterior[\"conversion_rate\"] -\n",
        "    plausible_values_website_a_5000.posterior[\"conversion_rate\"]\n",
        "    )\n",
        "\n",
        "# Compare the two. Hint: The forest plot is quite useful here\n",
        "az.plot_posterior(diff, ref_val= 0 )\n",
        "\n"
      ]
    },
    {
      "cell_type": "markdown",
      "source": [
        "### The differnece is always positive so b(intervention) is better than a(control) such that all values of B > A."
      ],
      "metadata": {
        "id": "9twF4PBj-Ij2"
      },
      "id": "9twF4PBj-Ij2"
    },
    {
      "cell_type": "markdown",
      "id": "27a377f0",
      "metadata": {
        "id": "27a377f0"
      },
      "source": [
        "# Exercise 3: Reading docs\n",
        "Documentation is an important tool in becoming a proficient computational data scientist or statistician.\n",
        "\n",
        "Utilizing the [ArviZ documentation](https://arviz-devs.github.io/arviz/) determine how to\n",
        "1. Generate a rankplot from the output of `pm.sample()`\n",
        "2. Convert the Forest Plot into a Ridge Plot\n",
        "3. **Optional:** Access the posterior group of the returned `InferenceData`, and get the mean of the samples across all dimensions\n",
        "\n",
        "Use any of the inference data objects available in these exercises"
      ]
    },
    {
      "cell_type": "code",
      "execution_count": null,
      "id": "56dd8b80",
      "metadata": {
        "id": "56dd8b80"
      },
      "outputs": [],
      "source": [
        "# Generate a rank plot\n",
        "az.plot_forest(\n",
        "    [plausible_values_website_a, plausible_values_website_a_5000],\n",
        "    model_names=[\"20 Samples\", \"5000 Samples\"],\n",
        "    combined=True,\n",
        "    figsize=(5, 3),\n",
        ");\n"
      ]
    },
    {
      "cell_type": "code",
      "execution_count": null,
      "id": "723ff1f2",
      "metadata": {
        "id": "723ff1f2"
      },
      "outputs": [],
      "source": [
        "# Generate a ridge plot\n",
        "fig, ax = plt.subplots(figsize=(10, 4))\n",
        "az.plot_forest(\n",
        "    [plausible_values_website_b_5000, plausible_values_website_a_5000],\n",
        "    model_names=[\"Control\", \"Intervention\"],\n",
        "    combined=True,\n",
        "    kind=\"ridgeplot\",\n",
        "    ax=ax,\n",
        ")\n",
        "ax.set_title(\"Conversion Ridge Plot\");"
      ]
    },
    {
      "cell_type": "code",
      "execution_count": null,
      "id": "086a9cbb",
      "metadata": {
        "id": "086a9cbb"
      },
      "outputs": [],
      "source": [
        "# Get the mean of the posterior\n",
        "plausible_values_website_a_5000.posterior[\"conversion_rate\"].mean()"
      ]
    }
  ],
  "metadata": {
    "kernelspec": {
      "display_name": "Python 3 (ipykernel)",
      "language": "python",
      "name": "python3"
    },
    "language_info": {
      "codemirror_mode": {
        "name": "ipython",
        "version": 3
      },
      "file_extension": ".py",
      "mimetype": "text/x-python",
      "name": "python",
      "nbconvert_exporter": "python",
      "pygments_lexer": "ipython3",
      "version": "3.10.4"
    },
    "colab": {
      "provenance": [],
      "include_colab_link": true
    }
  },
  "nbformat": 4,
  "nbformat_minor": 5
}