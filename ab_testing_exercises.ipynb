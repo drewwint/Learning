{
  "cells": [
    {
      "cell_type": "markdown",
      "metadata": {
        "id": "view-in-github",
        "colab_type": "text"
      },
      "source": [
        "<a href=\"https://colab.research.google.com/github/drewwint/Learning/blob/main/ab_testing_exercises.ipynb\" target=\"_parent\"><img src=\"https://colab.research.google.com/assets/colab-badge.svg\" alt=\"Open In Colab\"/></a>"
      ]
    },
    {
      "cell_type": "markdown",
      "id": "8cf2e3b4",
      "metadata": {
        "id": "8cf2e3b4"
      },
      "source": [
        "# AB Testing Hands on Exercises"
      ]
    },
    {
      "cell_type": "code",
      "execution_count": null,
      "id": "integral-internet",
      "metadata": {
        "id": "integral-internet"
      },
      "outputs": [],
      "source": [
        "import numpy as np\n",
        "import scipy.stats as sps\n",
        "import matplotlib.pyplot as plt\n",
        "import matplotlib.ticker as mtick\n",
        "import seaborn as sns\n",
        "sns.set(rc={'figure.figsize':(11.7,8.27)})\n",
        "sns.set_context(\"poster\")\n",
        "sns.set_style(\"whitegrid\")\n",
        "%config InlineBackend.figure_format='retina'\n",
        "import pymc as pm\n",
        "import arviz as az\n",
        "import numpy\n",
        "import pymc\n",
        "\n",
        "np.set_printoptions(formatter={'float': lambda x: \"{0:0.1f}%\".format(x)})"
      ]
    },
    {
      "cell_type": "markdown",
      "id": "85e1cd18",
      "metadata": {
        "id": "85e1cd18"
      },
      "source": [
        "## Exercise 1\n",
        "\n",
        "1. Build a model for estimating the conversion rate for version B of the website\n",
        "  * We included Model A for you already\n",
        "2. Extract the posterior of plausible values of the conversion rate.\n",
        "3. Plot a histogram of plausible values for the conversion rate of version A *and* version B.\n",
        "4. Compute the probability that version A of the website is better than that of version B."
      ]
    },
    {
      "cell_type": "code",
      "execution_count": null,
      "id": "75984cd0",
      "metadata": {
        "id": "75984cd0"
      },
      "outputs": [],
      "source": [
        "np.random.seed(3)\n",
        "a = sps.bernoulli(p=.1)\n",
        "b = sps.bernoulli(p=.15)\n",
        "\n",
        "conversions = a_conversions = a.rvs(100)\n",
        "b_conversions = b.rvs(100)"
      ]
    },
    {
      "cell_type": "markdown",
      "id": "cc1eec50",
      "metadata": {
        "id": "cc1eec50"
      },
      "source": [
        "## Solution 1"
      ]
    },
    {
      "cell_type": "code",
      "execution_count": null,
      "id": "546b6a56",
      "metadata": {
        "id": "546b6a56"
      },
      "outputs": [],
      "source": [
        "with pm.Model():\n",
        "    conversion_rate = pm.Beta(\"conversion_rate_a\", 2, 10)\n",
        "    how_likely = pm.Bernoulli(\"how_likely\",\n",
        "                              p=conversion_rate,\n",
        "                              observed=a_conversions)\n",
        "\n",
        "    idata_a = pm.sample()"
      ]
    },
    {
      "cell_type": "code",
      "execution_count": null,
      "id": "372555c5",
      "metadata": {
        "id": "372555c5"
      },
      "outputs": [],
      "source": [
        "conversion_a = idata_a.posterior.stack(draws=(\"chain\", \"draw\"))[\"conversion_rate_a\"].values"
      ]
    },
    {
      "cell_type": "markdown",
      "source": [
        "### Conversion B"
      ],
      "metadata": {
        "id": "NyBwjAi8oQtH"
      },
      "id": "NyBwjAi8oQtH"
    },
    {
      "cell_type": "code",
      "source": [
        "with pm.Model():\n",
        "    conversion_rate = pm.Beta(\"conversion_rate_b\", 2, 10)\n",
        "    how_likely = pm.Bernoulli(\"how_likely\",\n",
        "                              p=conversion_rate,\n",
        "                              observed=b_conversions)\n",
        "\n",
        "    idata_b = pm.sample()"
      ],
      "metadata": {
        "id": "9uzsVvJ4n8AA"
      },
      "id": "9uzsVvJ4n8AA",
      "execution_count": null,
      "outputs": []
    },
    {
      "cell_type": "code",
      "source": [
        "conversion_b = idata_b.posterior.stack(draws=(\"chain\", \"draw\"))[\"conversion_rate_b\"].values"
      ],
      "metadata": {
        "id": "z8jvsH5AoAVv"
      },
      "id": "z8jvsH5AoAVv",
      "execution_count": null,
      "outputs": []
    },
    {
      "cell_type": "markdown",
      "source": [
        "## Plotting"
      ],
      "metadata": {
        "id": "yW5LdmnEoA5N"
      },
      "id": "yW5LdmnEoA5N"
    },
    {
      "cell_type": "code",
      "source": [
        "\n",
        "plt.figure(figsize=(10, 4))\n",
        "ax = sns.histplot(conversion_a)\n",
        "ax.set_xlabel(\"Conversion rate\")\n",
        "ax.set_ylabel(\"Plausible value count\")\n",
        "ax.xaxis.set_major_formatter(mtick.PercentFormatter(1.0))\n",
        "plt.title(\"Conversion A\")\n",
        "\n"
      ],
      "metadata": {
        "id": "cCe7ZoHhlzMb"
      },
      "id": "cCe7ZoHhlzMb",
      "execution_count": null,
      "outputs": []
    },
    {
      "cell_type": "code",
      "source": [
        "\n",
        "plt.figure(figsize=(10, 4))\n",
        "ax = sns.histplot(conversion_b)\n",
        "ax.set_xlabel(\"Conversion rate\")\n",
        "ax.set_ylabel(\"Plausible value count\")\n",
        "ax.xaxis.set_major_formatter(mtick.PercentFormatter(1.0))\n",
        "plt.title(\"Conversion B\")\n",
        "\n"
      ],
      "metadata": {
        "id": "JR5djkKKoU_t"
      },
      "id": "JR5djkKKoU_t",
      "execution_count": null,
      "outputs": []
    },
    {
      "cell_type": "code",
      "source": [
        "# Probability that B works better than A\n",
        "np.mean(conversion_a < conversion_b)"
      ],
      "metadata": {
        "id": "ZVfRl2rjpRzZ"
      },
      "id": "ZVfRl2rjpRzZ",
      "execution_count": null,
      "outputs": []
    },
    {
      "cell_type": "markdown",
      "id": "2c3cbc3f",
      "metadata": {
        "id": "2c3cbc3f"
      },
      "source": [
        "## Exercise 2\n",
        "\n",
        "Instead of a `Bernoulli` likelihood, which is the likelihood for binary data, we can also code the data differently and use a different likelihood. Instead of 100 binary events, we can also just say how many conversions we observed out of how many visitors (for version A: 7 out of 100).\n",
        "\n",
        "Note that we can't always do this, but here we can because we do not care about the order with which the data came in (i.e. shuffling would not change our inferences).\n",
        "\n",
        "The likelihood for successes out of a specific number of trials is the `Binomial`. Use the [documentation on the `Binomial`](https://docs.pymc.io/en/latest/api/distributions/generated/pymc.Binomial.html#pymc.Binomial) to figure out what to pass in instead of the binary events."
      ]
    },
    {
      "cell_type": "markdown",
      "id": "b3393c6c",
      "metadata": {
        "id": "b3393c6c"
      },
      "source": [
        "## Solution 2"
      ]
    },
    {
      "cell_type": "code",
      "source": [
        "a_conversions.sum()\n",
        "b_conversions.sum()"
      ],
      "metadata": {
        "id": "Xfa1qnY5tZAZ"
      },
      "id": "Xfa1qnY5tZAZ",
      "execution_count": null,
      "outputs": []
    },
    {
      "cell_type": "code",
      "execution_count": null,
      "id": "primary-graduation",
      "metadata": {
        "id": "primary-graduation"
      },
      "outputs": [],
      "source": [
        "import pymc as pm\n",
        "\n",
        "with pm.Model() as model_a:\n",
        "  conversion_rate = pm.Beta(\"conversion_rate_a\", 2, 10)\n",
        "  how_likely = pm.Binomial(\"how_likely\",\n",
        "                           n = len(a_conversions),\n",
        "                           p=conversion_rate,\n",
        "                           observed=a_conversions.sum()) # we use sum here because the Binomial distribution models the number of successes in n independent trials, with success probability p\n",
        "  bdata_a = pm.sample()"
      ]
    },
    {
      "cell_type": "code",
      "execution_count": null,
      "id": "0ef952d3-4978-4c76-96bc-89735fdf775e",
      "metadata": {
        "id": "0ef952d3-4978-4c76-96bc-89735fdf775e"
      },
      "outputs": [],
      "source": [
        "b_conversion_a = bdata_a.posterior.stack(draws=(\"chain\", \"draw\"))[\"conversion_rate_a\"].values"
      ]
    },
    {
      "cell_type": "code",
      "source": [
        "\n",
        "plt.figure(figsize=(10, 4))\n",
        "ax = sns.histplot(b_conversion_a)\n",
        "ax.set_xlabel(\"Conversion rate\")\n",
        "ax.set_ylabel(\"Plausible value count\")\n",
        "ax.xaxis.set_major_formatter(mtick.PercentFormatter(1.0))\n",
        "plt.title(\"Conversion A\")\n",
        "\n"
      ],
      "metadata": {
        "id": "f-ra8yBJGMn6"
      },
      "id": "f-ra8yBJGMn6",
      "execution_count": null,
      "outputs": []
    },
    {
      "cell_type": "code",
      "source": [],
      "metadata": {
        "id": "as3fY5_lGdHp"
      },
      "id": "as3fY5_lGdHp",
      "execution_count": null,
      "outputs": []
    },
    {
      "cell_type": "code",
      "source": [],
      "metadata": {
        "id": "3xrw2cwIGdWX"
      },
      "id": "3xrw2cwIGdWX",
      "execution_count": null,
      "outputs": []
    },
    {
      "cell_type": "code",
      "execution_count": null,
      "metadata": {
        "id": "mHB6vcNBGeY6"
      },
      "outputs": [],
      "source": [
        "import pymc as pm\n",
        "\n",
        "with pm.Model() as model_b:\n",
        "  conversion_rate = pm.Beta(\"conversion_rate_b\", 2, 10)\n",
        "  how_likely = pm.Binomial(\"how_likely\",\n",
        "                           n = len(b_conversions),\n",
        "                           p=conversion_rate,\n",
        "                           observed=b_conversions.sum()) # we use sum here because the Binomial distribution models the number of successes in n independent trials, with success probability p\n",
        "  bdata_b = pm.sample()"
      ],
      "id": "mHB6vcNBGeY6"
    },
    {
      "cell_type": "code",
      "execution_count": null,
      "metadata": {
        "id": "uilWT2xtGeY7"
      },
      "outputs": [],
      "source": [
        "b_conversion_b = bdata_b.posterior.stack(draws=(\"chain\", \"draw\"))[\"conversion_rate_b\"].values"
      ],
      "id": "uilWT2xtGeY7"
    },
    {
      "cell_type": "code",
      "source": [
        "\n",
        "plt.figure(figsize=(10, 4))\n",
        "ax = sns.histplot(b_conversion_b)\n",
        "ax.set_xlabel(\"Conversion rate\")\n",
        "ax.set_ylabel(\"Plausible value count\")\n",
        "ax.xaxis.set_major_formatter(mtick.PercentFormatter(1.0))\n",
        "plt.title(\"Conversion A\")\n",
        "\n"
      ],
      "metadata": {
        "id": "Kj5quS-qGeY7"
      },
      "execution_count": null,
      "outputs": [],
      "id": "Kj5quS-qGeY7"
    },
    {
      "cell_type": "code",
      "source": [],
      "metadata": {
        "id": "7dZVsiX2Gd-O"
      },
      "id": "7dZVsiX2Gd-O",
      "execution_count": null,
      "outputs": []
    }
  ],
  "metadata": {
    "kernelspec": {
      "display_name": "Python 3 (ipykernel)",
      "language": "python",
      "name": "python3"
    },
    "language_info": {
      "codemirror_mode": {
        "name": "ipython",
        "version": 3
      },
      "file_extension": ".py",
      "mimetype": "text/x-python",
      "name": "python",
      "nbconvert_exporter": "python",
      "pygments_lexer": "ipython3",
      "version": "3.11.8"
    },
    "colab": {
      "provenance": [],
      "include_colab_link": true
    }
  },
  "nbformat": 4,
  "nbformat_minor": 5
}