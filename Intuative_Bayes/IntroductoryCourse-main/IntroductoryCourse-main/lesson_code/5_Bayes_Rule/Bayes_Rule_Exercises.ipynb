{
 "cells": [
  {
   "cell_type": "markdown",
   "metadata": {
    "hideCode": false,
    "hidePrompt": false,
    "slideshow": {
     "slide_type": "slide"
    }
   },
   "source": [
    "# Bayes Rule Exercises"
   ]
  },
  {
   "cell_type": "code",
   "execution_count": 1,
   "metadata": {
    "hideCode": false,
    "hidePrompt": false,
    "slideshow": {
     "slide_type": "skip"
    }
   },
   "outputs": [],
   "source": [
    "import arviz as az\n",
    "import matplotlib.pyplot as plt\n",
    "import numpy as np\n",
    "import pandas as pd\n",
    "import pymc as pm\n",
    "import seaborn as sns\n",
    "import scipy\n",
    "from scipy import stats"
   ]
  },
  {
   "cell_type": "code",
   "execution_count": 2,
   "metadata": {
    "hideCode": false,
    "hidePrompt": false,
    "slideshow": {
     "slide_type": "skip"
    }
   },
   "outputs": [],
   "source": [
    "az.style.use(\"arviz-darkgrid\")\n",
    "RANDOM_SEED = 3\n",
    "np.random.seed(RANDOM_SEED)"
   ]
  },
  {
   "cell_type": "markdown",
   "metadata": {
    "hideCode": false,
    "hidePrompt": false,
    "slideshow": {
     "slide_type": "slide"
    }
   },
   "source": [
    "# Exercise 1: Bayesian intuition\n",
    "Sometimes Bayes Rule is used to explain how people learn, say a child learning what foods they like. It's not clear if this mathematically or scientifically true, but it is an interesting philosophy and thought experiment.\n",
    "\n",
    "Think through a situation in your life where you had a prior belief, received new information, and updated your belief. Share this experience your experience in the discourse. How does this intuition map to the idea of a posterior update?"
   ]
  },
  {
   "cell_type": "markdown",
   "metadata": {},
   "source": [
    "# Exercise 2 : Prior specification\n",
    "You're a scientist measuring the height of adult humans in meters. \n",
    "* What would an uninformative prior be for the height of an adult?\n",
    "* What would an informative prior be for the height of an adult?\n",
    "\n",
    "Sketch each on a piece of paper or on your computer. Justify your choices, what information is included in the informative prior that is not included in the uninformative prior?"
   ]
  },
  {
   "cell_type": "markdown",
   "metadata": {},
   "source": [
    "# Exercise 3: Likelihood Calculations\n",
    "## Exercise 3a\n",
    "1. Instantiate a `N(0,10)` distribution using SciPy\n",
    "2. Calculate the likelihood for each of the following values\n",
    "    * 0\n",
    "    * -1\n",
    "    * 1\n",
    "    * 100\n",
    "\n",
    "Do the results returned make sense? Why or why not?\n",
    "\n",
    "## Exercise 3b\n",
    "1. Also using SciPy, use the A/B test data calculate the likelihood of the observations in the `ab_test_data.csv` file (which can be found in the data folder in the Distributions lesson) given the following conversion rates:\n",
    "  * 5%\n",
    "  * 10%\n",
    "  * 50%\n",
    "\n",
    "For this you'll need to recall what likelihood function most appropriate for this data and instatiate a SciPy distribution with the provided parameters,\n",
    "then evaluate that on your observations to get their likelihood. Remember the likelihood is $p(data|parameters)$."
   ]
  },
  {
   "cell_type": "markdown",
   "metadata": {},
   "source": [
    "# Exercise 4: Estimating conversion rates yourself\n",
    "We've deployed three other websites. You'll find the data for Website A, B, and C in the data directory.\n",
    "\n",
    "## Estimating Website A\n",
    "Use the full Bayesian modeling workflow to estimate the conversion rate. Generate a posterior plot and calculate the 94% HDI using ArviZ\n",
    "\n",
    "## Estimating Website B\n",
    "Do the same for Website B, but compare it to Website A. Is the estimate conversion rate different? How sure we of this conversion rate, more than Website A, or less? Why might this be the case?\n",
    "\n",
    "## Estimating Website C\n",
    "Your boss now asks you to compare Website C with B. Your boss wants to know\n",
    "* What is the conversion rate of Website C?\n",
    "* Should the company deploy Website C? Why or why not?\n"
   ]
  },
  {
   "cell_type": "markdown",
   "metadata": {},
   "source": [
    "# Exercise 5: Group Exercise\n",
    "This is a group exercise on Discourse.\n",
    "\n",
    "1. Generate some fake conversion picking your own conversion rate and sample size\n",
    "2. Post the CSV on discourse. Ask someone to share their data\n",
    "3. See if you can recover the parameters and confirm with your colleague. They should do the same"
   ]
  }
 ],
 "metadata": {
  "celltoolbar": "Slideshow",
  "hide_code_all_hidden": false,
  "kernelspec": {
   "display_name": "Python 3 (ipykernel)",
   "language": "python",
   "name": "python3"
  },
  "language_info": {
   "codemirror_mode": {
    "name": "ipython",
    "version": 3
   },
   "file_extension": ".py",
   "mimetype": "text/x-python",
   "name": "python",
   "nbconvert_exporter": "python",
   "pygments_lexer": "ipython3",
   "version": "3.11.8"
  },
  "rise": {
   "auto_select": "none",
   "enable_chalkboard": true,
   "scroll": true
  }
 },
 "nbformat": 4,
 "nbformat_minor": 4
}
