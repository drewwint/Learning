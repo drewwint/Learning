{
 "cells": [
  {
   "cell_type": "markdown",
   "metadata": {
    "hideCode": false,
    "hidePrompt": false,
    "slideshow": {
     "slide_type": "slide"
    }
   },
   "source": [
    "# Distributions Exercises"
   ]
  },
  {
   "cell_type": "code",
   "execution_count": 1,
   "metadata": {
    "hideCode": false,
    "hidePrompt": false,
    "slideshow": {
     "slide_type": "skip"
    }
   },
   "outputs": [],
   "source": [
    "import arviz as az\n",
    "import matplotlib.pyplot as plt\n",
    "import numpy as np\n",
    "import pandas as pd\n",
    "import pymc as pm\n",
    "import seaborn as sns\n",
    "import scipy\n",
    "from scipy import stats"
   ]
  },
  {
   "cell_type": "code",
   "execution_count": 2,
   "metadata": {
    "hideCode": false,
    "hidePrompt": false,
    "slideshow": {
     "slide_type": "skip"
    }
   },
   "outputs": [],
   "source": [
    "az.style.use(\"arviz-darkgrid\")\n",
    "RANDOM_SEED = 3\n",
    "np.random.seed(RANDOM_SEED)"
   ]
  },
  {
   "cell_type": "markdown",
   "metadata": {
    "hideCode": false,
    "hidePrompt": false,
    "slideshow": {
     "slide_type": "slide"
    }
   },
   "source": [
    "# Exercise 1: Specifying distributions in code and sampling\n",
    "## Part 1\n",
    "Specify three distributions in SciPy\n",
    "* A Binomial distribution of p=.8 and n=20\n",
    "* A Poisson distribution with rate 10\n",
    "* A Normal distribution with mean and standard deviation 20 \n",
    "\n",
    "## Part 2\n",
    "From each of the distributions in Exercise 1 take\n",
    "* 10 random samples\n",
    "* 30 random samples\n",
    "* 10000 random samples\n",
    "\n",
    "Then \n",
    "* Calculate the mean of each sample. How closely does it approximate the true mean you would expect?\n",
    "* Plot the samples. How do the plots differ?"
   ]
  },
  {
   "cell_type": "markdown",
   "metadata": {},
   "source": [
    "# Exercise 2: Calculate PMF and PDF\n",
    "## Part 1\n",
    "For just the Binomial distribution, calculate the probability mass value of {4, 16, 20} individually. Which value has the highest number, does this match you intuition?\n",
    "\n",
    "## Part 2\n",
    "For the Normal distribution, calculate the PDF from -20 to 60 using the `np.linspace` function to generate the x values. Plot PDF generated. Overlay this plot with the histogram in Exercise 2. Do they match?"
   ]
  },
  {
   "cell_type": "markdown",
   "metadata": {},
   "source": [
    "# Exercise 3: Reading Docs\n",
    "## Part 1\n",
    "Go the course references and find the SciPY and PyMC docs. Find the Poisson distribution in each. Is the parameterization the same?\n",
    "\n",
    "## Part 2\n",
    "Find two other distributions of the same name in both the PyMC and SciPY docs and compare the parameters. Do they match?"
   ]
  },
  {
   "cell_type": "markdown",
   "metadata": {},
   "source": [
    "# Exercise 4: Connecting the two spaces\n",
    "## Part 1\n",
    "<center> <img src=\"img/ConnectedSpaces.png\" width=\"1200\"/></center>\n",
    "\n",
    "Recreate the plot above using the code in the course, however update the parameter space so the observed space distribution mean is around 100\n",
    "\n",
    "## Part 2\n",
    "**Note**: This exercise is designed to be challenging. If you get this exercise however you will be very well prepared for the lesson thereafter\n",
    "\n",
    "Let's say we sample the heights of people and we observe a Normal Distribution in centimeters. Perform the following tasks using SciPy:\n",
    "\n",
    "**Task 1**\n",
    "\n",
    "Specify a Normal distribution with 150 cm as the mean and 20 cm `N(150, 20)` as the standard deviation. Take 10000 samples and plot the observed values \n",
    "\n",
    "**Task 2**\n",
    "\n",
    "Specify a Normal distribution but this time\n",
    "\n",
    "* The mean is specified by another Normal distribution of  `N(150, 5)`\n",
    "* The standard deviation is 20 cm\n",
    "  \n",
    "Take 10000 samples and plot both distributions. Label which one is the parameter distribution and which one is the observed distribution. *hint* You may run into shape issues.\n",
    "\n",
    "Change the mean of the parameter distribution to 100 cm and see what happens. Do the same for the standard deviation of the parameter distribution.\n",
    "\n",
    "**Task 3**\n",
    "\n",
    "Specify a Normal distribution but this time\n",
    "\n",
    "* The mean is specified by another Normal distribution of  `N(150, 5)`\n",
    "* The standard deviation is a HalfNormal with standard deviation 15\n",
    "\n",
    "Take 10000 samples and plot all three distributions. Write down conceptually why we are using a HalfNormal for standard deviation instead of a full normal. *Hint* Try using a Full normal for standard deviation and see what happens"
   ]
  },
  {
   "cell_type": "code",
   "execution_count": null,
   "metadata": {},
   "outputs": [],
   "source": []
  }
 ],
 "metadata": {
  "celltoolbar": "Slideshow",
  "hide_code_all_hidden": false,
  "kernelspec": {
   "display_name": "Python 3 (ipykernel)",
   "language": "python",
   "name": "python3"
  },
  "language_info": {
   "codemirror_mode": {
    "name": "ipython",
    "version": 3
   },
   "file_extension": ".py",
   "mimetype": "text/x-python",
   "name": "python",
   "nbconvert_exporter": "python",
   "pygments_lexer": "ipython3",
   "version": "3.11.8"
  },
  "rise": {
   "auto_select": "none",
   "enable_chalkboard": true,
   "scroll": true
  }
 },
 "nbformat": 4,
 "nbformat_minor": 4
}
