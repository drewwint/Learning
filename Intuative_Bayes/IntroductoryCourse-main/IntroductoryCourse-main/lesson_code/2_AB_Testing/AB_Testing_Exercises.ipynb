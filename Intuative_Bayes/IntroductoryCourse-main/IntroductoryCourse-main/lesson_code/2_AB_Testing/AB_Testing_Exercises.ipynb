{
 "cells": [
  {
   "cell_type": "markdown",
   "id": "8cf2e3b4",
   "metadata": {},
   "source": [
    "# AB Testing Hands on Exercises"
   ]
  },
  {
   "cell_type": "code",
   "execution_count": 1,
   "id": "integral-internet",
   "metadata": {},
   "outputs": [],
   "source": [
    "import numpy as np\n",
    "import scipy.stats as sps\n",
    "import matplotlib.pyplot as plt\n",
    "import matplotlib.ticker as mtick\n",
    "import seaborn as sns\n",
    "sns.set(rc={'figure.figsize':(11.7,8.27)})\n",
    "sns.set_context(\"poster\")\n",
    "sns.set_style(\"whitegrid\")\n",
    "%config InlineBackend.figure_format='retina'\n",
    "import pymc as pm\n",
    "import arviz as az\n",
    "import numpy\n",
    "import pymc\n",
    "\n",
    "np.set_printoptions(formatter={'float': lambda x: \"{0:0.1f}%\".format(x)})"
   ]
  },
  {
   "cell_type": "markdown",
   "id": "85e1cd18",
   "metadata": {},
   "source": [
    "## Exercise 1\n",
    "\n",
    "1. Build a model for estimating the conversion rate for version B of the website\n",
    "  * We included Model A for you already\n",
    "2. Extract the posterior of plausible values of the conversion rate.\n",
    "3. Plot a histogram of plausible values for the conversion rate of version A *and* version B.\n",
    "4. Compute the probability that version A of the website is better than that of version B."
   ]
  },
  {
   "cell_type": "code",
   "execution_count": 2,
   "id": "75984cd0",
   "metadata": {},
   "outputs": [],
   "source": [
    "np.random.seed(3)\n",
    "a = sps.bernoulli(p=.1)\n",
    "b = sps.bernoulli(p=.15)\n",
    "\n",
    "conversions = a_conversions = a.rvs(100)\n",
    "b_conversions = b.rvs(100)"
   ]
  },
  {
   "cell_type": "markdown",
   "id": "cc1eec50",
   "metadata": {},
   "source": [
    "## Solution 1"
   ]
  },
  {
   "cell_type": "code",
   "execution_count": 3,
   "id": "546b6a56",
   "metadata": {},
   "outputs": [
    {
     "name": "stderr",
     "output_type": "stream",
     "text": [
      "Auto-assigning NUTS sampler...\n",
      "Initializing NUTS using jitter+adapt_diag...\n",
      "Multiprocess sampling (4 chains in 4 jobs)\n",
      "NUTS: [conversion_rate_a]\n"
     ]
    },
    {
     "data": {
      "text/html": [
       "\n",
       "<style>\n",
       "    /* Turns off some styling */\n",
       "    progress {\n",
       "        /* gets rid of default border in Firefox and Opera. */\n",
       "        border: none;\n",
       "        /* Needs to be in here for Safari polyfill so background images work as expected. */\n",
       "        background-size: auto;\n",
       "    }\n",
       "    progress:not([value]), progress:not([value])::-webkit-progress-bar {\n",
       "        background: repeating-linear-gradient(45deg, #7e7e7e, #7e7e7e 10px, #5c5c5c 10px, #5c5c5c 20px);\n",
       "    }\n",
       "    .progress-bar-interrupted, .progress-bar-interrupted::-webkit-progress-bar {\n",
       "        background: #F44336;\n",
       "    }\n",
       "</style>\n"
      ],
      "text/plain": [
       "<IPython.core.display.HTML object>"
      ]
     },
     "metadata": {},
     "output_type": "display_data"
    },
    {
     "data": {
      "text/html": [
       "\n",
       "    <div>\n",
       "      <progress value='8000' class='' max='8000' style='width:300px; height:20px; vertical-align: middle;'></progress>\n",
       "      100.00% [8000/8000 00:01&lt;00:00 Sampling 4 chains, 0 divergences]\n",
       "    </div>\n",
       "    "
      ],
      "text/plain": [
       "<IPython.core.display.HTML object>"
      ]
     },
     "metadata": {},
     "output_type": "display_data"
    },
    {
     "name": "stderr",
     "output_type": "stream",
     "text": [
      "Sampling 4 chains for 1_000 tune and 1_000 draw iterations (4_000 + 4_000 draws total) took 1 seconds.\n"
     ]
    }
   ],
   "source": [
    "with pm.Model():\n",
    "    conversion_rate = pm.Beta(\"conversion_rate_a\", 2, 10)\n",
    "    how_likely = pm.Bernoulli(\"how_likely\", \n",
    "                              p=conversion_rate, \n",
    "                              observed=a_conversions)\n",
    "    \n",
    "    idata_a = pm.sample()"
   ]
  },
  {
   "cell_type": "code",
   "execution_count": 4,
   "id": "372555c5",
   "metadata": {},
   "outputs": [],
   "source": [
    "conversion_a = idata_a.posterior.stack(draws=(\"chain\", \"draw\"))[\"conversion_rate_a\"].values"
   ]
  },
  {
   "cell_type": "markdown",
   "id": "2c3cbc3f",
   "metadata": {},
   "source": [
    "## Exercise 2\n",
    "\n",
    "Instead of a `Bernoulli` likelihood, which is the likelihood for binary data, we can also code the data differently and use a different likelihood. Instead of 100 binary events, we can also just say how many conversions we observed out of how many visitors (for version A: 7 out of 100).\n",
    "\n",
    "Note that we can't always do this, but here we can because we do not care about the order with which the data came in (i.e. shuffling would not change our inferences).\n",
    "\n",
    "The likelihood for successes out of a specific number of trials is the `Binomial`. Use the [documentation on the `Binomial`](https://docs.pymc.io/en/latest/api/distributions/generated/pymc.Binomial.html#pymc.Binomial) to figure out what to pass in instead of the binary events."
   ]
  },
  {
   "cell_type": "markdown",
   "id": "b3393c6c",
   "metadata": {},
   "source": [
    "## Solution 2"
   ]
  },
  {
   "cell_type": "code",
   "execution_count": 5,
   "id": "primary-graduation",
   "metadata": {},
   "outputs": [
    {
     "ename": "SyntaxError",
     "evalue": "incomplete input (135248037.py, line 3)",
     "output_type": "error",
     "traceback": [
      "\u001b[0;36m  Cell \u001b[0;32mIn[5], line 3\u001b[0;36m\u001b[0m\n\u001b[0;31m    with pm.Model() as model_a:\u001b[0m\n\u001b[0m                               ^\u001b[0m\n\u001b[0;31mSyntaxError\u001b[0m\u001b[0;31m:\u001b[0m incomplete input\n"
     ]
    }
   ],
   "source": [
    "import pymc as pm\n",
    "\n",
    "with pm.Model() as model_a:\n"
   ]
  },
  {
   "cell_type": "code",
   "execution_count": null,
   "id": "0ef952d3-4978-4c76-96bc-89735fdf775e",
   "metadata": {},
   "outputs": [],
   "source": []
  }
 ],
 "metadata": {
  "kernelspec": {
   "display_name": "Python 3 (ipykernel)",
   "language": "python",
   "name": "python3"
  },
  "language_info": {
   "codemirror_mode": {
    "name": "ipython",
    "version": 3
   },
   "file_extension": ".py",
   "mimetype": "text/x-python",
   "name": "python",
   "nbconvert_exporter": "python",
   "pygments_lexer": "ipython3",
   "version": "3.11.8"
  }
 },
 "nbformat": 4,
 "nbformat_minor": 5
}
