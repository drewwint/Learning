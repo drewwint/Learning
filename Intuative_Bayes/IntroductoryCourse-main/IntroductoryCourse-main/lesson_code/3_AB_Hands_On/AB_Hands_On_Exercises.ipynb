{
 "cells": [
  {
   "cell_type": "markdown",
   "id": "1ee1f9cf",
   "metadata": {},
   "source": [
    "# A/B Hands-On Exercises"
   ]
  },
  {
   "cell_type": "code",
   "execution_count": 1,
   "id": "5c098135",
   "metadata": {},
   "outputs": [],
   "source": [
    "import arviz as az\n",
    "import matplotlib.pyplot as plt\n",
    "import numpy as np\n",
    "import pandas as pd\n",
    "import pymc as pm\n",
    "import scipy\n",
    "import seaborn as sns\n",
    "from scipy import stats"
   ]
  },
  {
   "cell_type": "markdown",
   "id": "93041740",
   "metadata": {},
   "source": [
    "## Exercise 1: Match the functionality with the library\n",
    "This is a classic matching exercise. The libraries in this course are used quite often, so a quick recall of which one does what will aid in your learning across all lessons.\n",
    "\n",
    "From the imports above match which library or libraries \n",
    "  1. is used to define models\n",
    "  2. provides the data container for model results\n",
    "  3. are used for plotting\n",
    "  4. is specialized for Bayesian plotting\n",
    "  5. is specialized for data manipulation and cleaning"
   ]
  },
  {
   "cell_type": "markdown",
   "id": "80f3144e",
   "metadata": {},
   "source": [
    "## Exercise 2: Estimate conversion for Website A\n",
    "We've launched a new website and your boss wants you to estimate the conversion rate. Your boss tells you that there wasn't a lot of money for testing the new website, so you only have 20 data points for the new website, **Website A**.\n",
    "\n",
    "### Part 1: Estimating `p(Conversion)`\n",
    "\n",
    "Give your boss an estimate of conversion rate in two ways:\n",
    "\n",
    "1. Calculate the point value of percentage conversion from pandas or plain python\n",
    "  * This is what most people would do using Excel\n",
    "2. Use the model from the A/B testing lesson and give her an estimate with uncertainty\n",
    "  * Hint: The posterior plot will be quite helpful"
   ]
  },
  {
   "cell_type": "code",
   "execution_count": 2,
   "id": "06eb3516",
   "metadata": {},
   "outputs": [
    {
     "data": {
      "text/html": [
       "<div>\n",
       "<style scoped>\n",
       "    .dataframe tbody tr th:only-of-type {\n",
       "        vertical-align: middle;\n",
       "    }\n",
       "\n",
       "    .dataframe tbody tr th {\n",
       "        vertical-align: top;\n",
       "    }\n",
       "\n",
       "    .dataframe thead th {\n",
       "        text-align: right;\n",
       "    }\n",
       "</style>\n",
       "<table border=\"1\" class=\"dataframe\">\n",
       "  <thead>\n",
       "    <tr style=\"text-align: right;\">\n",
       "      <th></th>\n",
       "      <th>Website A</th>\n",
       "      <th>Website B</th>\n",
       "    </tr>\n",
       "  </thead>\n",
       "  <tbody>\n",
       "    <tr>\n",
       "      <th>0</th>\n",
       "      <td>1</td>\n",
       "      <td>0</td>\n",
       "    </tr>\n",
       "    <tr>\n",
       "      <th>1</th>\n",
       "      <td>1</td>\n",
       "      <td>1</td>\n",
       "    </tr>\n",
       "    <tr>\n",
       "      <th>2</th>\n",
       "      <td>0</td>\n",
       "      <td>0</td>\n",
       "    </tr>\n",
       "    <tr>\n",
       "      <th>3</th>\n",
       "      <td>0</td>\n",
       "      <td>1</td>\n",
       "    </tr>\n",
       "    <tr>\n",
       "      <th>4</th>\n",
       "      <td>0</td>\n",
       "      <td>0</td>\n",
       "    </tr>\n",
       "    <tr>\n",
       "      <th>5</th>\n",
       "      <td>1</td>\n",
       "      <td>1</td>\n",
       "    </tr>\n",
       "    <tr>\n",
       "      <th>6</th>\n",
       "      <td>0</td>\n",
       "      <td>0</td>\n",
       "    </tr>\n",
       "    <tr>\n",
       "      <th>7</th>\n",
       "      <td>1</td>\n",
       "      <td>1</td>\n",
       "    </tr>\n",
       "    <tr>\n",
       "      <th>8</th>\n",
       "      <td>1</td>\n",
       "      <td>0</td>\n",
       "    </tr>\n",
       "    <tr>\n",
       "      <th>9</th>\n",
       "      <td>1</td>\n",
       "      <td>1</td>\n",
       "    </tr>\n",
       "    <tr>\n",
       "      <th>10</th>\n",
       "      <td>0</td>\n",
       "      <td>0</td>\n",
       "    </tr>\n",
       "    <tr>\n",
       "      <th>11</th>\n",
       "      <td>0</td>\n",
       "      <td>1</td>\n",
       "    </tr>\n",
       "    <tr>\n",
       "      <th>12</th>\n",
       "      <td>0</td>\n",
       "      <td>0</td>\n",
       "    </tr>\n",
       "    <tr>\n",
       "      <th>13</th>\n",
       "      <td>1</td>\n",
       "      <td>0</td>\n",
       "    </tr>\n",
       "    <tr>\n",
       "      <th>14</th>\n",
       "      <td>1</td>\n",
       "      <td>1</td>\n",
       "    </tr>\n",
       "    <tr>\n",
       "      <th>15</th>\n",
       "      <td>1</td>\n",
       "      <td>0</td>\n",
       "    </tr>\n",
       "    <tr>\n",
       "      <th>16</th>\n",
       "      <td>1</td>\n",
       "      <td>0</td>\n",
       "    </tr>\n",
       "    <tr>\n",
       "      <th>17</th>\n",
       "      <td>0</td>\n",
       "      <td>0</td>\n",
       "    </tr>\n",
       "    <tr>\n",
       "      <th>18</th>\n",
       "      <td>0</td>\n",
       "      <td>1</td>\n",
       "    </tr>\n",
       "    <tr>\n",
       "      <th>19</th>\n",
       "      <td>0</td>\n",
       "      <td>1</td>\n",
       "    </tr>\n",
       "  </tbody>\n",
       "</table>\n",
       "</div>"
      ],
      "text/plain": [
       "    Website A  Website B\n",
       "0           1          0\n",
       "1           1          1\n",
       "2           0          0\n",
       "3           0          1\n",
       "4           0          0\n",
       "5           1          1\n",
       "6           0          0\n",
       "7           1          1\n",
       "8           1          0\n",
       "9           1          1\n",
       "10          0          0\n",
       "11          0          1\n",
       "12          0          0\n",
       "13          1          0\n",
       "14          1          1\n",
       "15          1          0\n",
       "16          1          0\n",
       "17          0          0\n",
       "18          0          1\n",
       "19          0          1"
      ]
     },
     "execution_count": 2,
     "metadata": {},
     "output_type": "execute_result"
    }
   ],
   "source": [
    "websites = pd.read_csv(\"data/websites.csv\")\n",
    "websites.head(20)"
   ]
  },
  {
   "cell_type": "code",
   "execution_count": 3,
   "id": "c9c6937a",
   "metadata": {},
   "outputs": [],
   "source": [
    "website_a = websites[\"Website A\"]"
   ]
  },
  {
   "cell_type": "code",
   "execution_count": 4,
   "id": "cee04a19",
   "metadata": {},
   "outputs": [],
   "source": [
    "# Calculate tthe point estimte of percentage"
   ]
  },
  {
   "cell_type": "code",
   "execution_count": 5,
   "id": "c75720f7",
   "metadata": {},
   "outputs": [],
   "source": [
    "# Fill in the PyMC Model"
   ]
  },
  {
   "cell_type": "code",
   "execution_count": 6,
   "id": "c848445c",
   "metadata": {},
   "outputs": [],
   "source": [
    "# Plot the posterior plot"
   ]
  },
  {
   "cell_type": "markdown",
   "id": "875879b8",
   "metadata": {},
   "source": [
    "### Part 2: The A/B test\n",
    "\n",
    "Your boss tells you there also wasn't any money for logging the control website, Website B, so you also only have 20 samples. Run the same analysis as before, but for Website B, and compare your results. Specifically:\n",
    "\n",
    "1. Calculate the point value of percentage conversion from pandas or plain python and draw a conclusion on which website is better.\n",
    "2. As a professional statistician you have to provide advice, not just code. Based on the point estimates would you feel comfortable telling your boss Website B is better (or worse)?\n",
    "3. Use your Bayesian model to also estimate the conversion rate with uncertainty. Use a forest plot to compare the results from the two models. If your boss asked which website has higher conversion, what would you advise now? How did you confidence-level in your recommendation change?"
   ]
  },
  {
   "cell_type": "code",
   "execution_count": 7,
   "id": "2bf7a6af",
   "metadata": {},
   "outputs": [],
   "source": [
    "website_b = websites[\"Website B\"]"
   ]
  },
  {
   "cell_type": "code",
   "execution_count": 8,
   "id": "aebb12e1",
   "metadata": {},
   "outputs": [],
   "source": [
    "# Calculate the point value of percentage"
   ]
  },
  {
   "cell_type": "code",
   "execution_count": 9,
   "id": "a1a881f0",
   "metadata": {},
   "outputs": [],
   "source": [
    "# Create a Bayesian model for the conversion of Website B"
   ]
  },
  {
   "cell_type": "code",
   "execution_count": 10,
   "id": "e19e00a6",
   "metadata": {},
   "outputs": [],
   "source": [
    "# Compare the two. Hint: The forest plot is quite useful here"
   ]
  },
  {
   "cell_type": "markdown",
   "id": "80787bf5",
   "metadata": {},
   "source": [
    "### Part 3: Rerun your analysis with more data\n",
    "You convince your boss that it's worth getting more samples. You warn her that if she doesn't invest in proper analysis she could lose out on millions of dollars in sales. She reluctantly agrees. \n",
    "\n",
    "Now you have 5000 samples for each website. Rerun your analysis from above, and now provide a recommendation as to which website has a better conversion rate."
   ]
  },
  {
   "cell_type": "code",
   "execution_count": 11,
   "id": "def4a4e1",
   "metadata": {},
   "outputs": [
    {
     "data": {
      "text/plain": [
       "(5000, 2)"
      ]
     },
     "execution_count": 11,
     "metadata": {},
     "output_type": "execute_result"
    }
   ],
   "source": [
    "websites = pd.read_csv(\"data/websites_5000_samples.csv\")\n",
    "websites.shape"
   ]
  },
  {
   "cell_type": "code",
   "execution_count": 12,
   "id": "7447e0a1",
   "metadata": {},
   "outputs": [],
   "source": [
    "website_a = websites[\"Website A\"]"
   ]
  },
  {
   "cell_type": "code",
   "execution_count": 13,
   "id": "c2ebec91",
   "metadata": {},
   "outputs": [],
   "source": [
    "# Create a model for Website A"
   ]
  },
  {
   "cell_type": "code",
   "execution_count": 14,
   "id": "1330f752",
   "metadata": {},
   "outputs": [],
   "source": [
    "website_b = websites[\"Website B\"]"
   ]
  },
  {
   "cell_type": "code",
   "execution_count": 15,
   "id": "3da08b18",
   "metadata": {},
   "outputs": [],
   "source": [
    "# Create a model for Website B"
   ]
  },
  {
   "cell_type": "code",
   "execution_count": 16,
   "id": "9e209d5e",
   "metadata": {},
   "outputs": [],
   "source": [
    "# Compare them again"
   ]
  },
  {
   "cell_type": "markdown",
   "id": "71c0207b",
   "metadata": {},
   "source": [
    "## Part 4: See the effect of more data\n",
    "You also want to check your own assumptions. Compare your estimation for conversion for Website A with 20 samples versus 5000 samples.\n",
    "\n",
    "1. Before writing any code, pause and ponder for a minute: would you be more certain or less certain with more data?\n",
    "2. Use a forest plot to compare your estimation from 20 samples with 5000. Do the results match your intuition?"
   ]
  },
  {
   "cell_type": "code",
   "execution_count": 17,
   "id": "e052cfe4",
   "metadata": {},
   "outputs": [],
   "source": [
    "# Compare the inference data objects "
   ]
  },
  {
   "cell_type": "markdown",
   "id": "27a377f0",
   "metadata": {},
   "source": [
    "# Exercise 3: Reading docs\n",
    "Documentation is an important tool in becoming a proficient computational data scientist or statistician.\n",
    "\n",
    "Utilizing the [ArviZ documentation](https://arviz-devs.github.io/arviz/) determine how to\n",
    "1. Generate a rankplot from the output of `pm.sample()`\n",
    "2. Convert the Forest Plot into a Ridge Plot\n",
    "3. **Optional:** Access the posterior group of the returned `InferenceData`, and get the mean of the samples across all dimensions\n",
    "\n",
    "Use any of the inference data objects available in these exercises"
   ]
  },
  {
   "cell_type": "code",
   "execution_count": 18,
   "id": "56dd8b80",
   "metadata": {},
   "outputs": [],
   "source": [
    "# Generate a rank plot"
   ]
  },
  {
   "cell_type": "code",
   "execution_count": 19,
   "id": "723ff1f2",
   "metadata": {},
   "outputs": [],
   "source": [
    "# Generate a ridge plot"
   ]
  },
  {
   "cell_type": "code",
   "execution_count": 20,
   "id": "086a9cbb",
   "metadata": {},
   "outputs": [],
   "source": [
    "# Get the mean of the posterior"
   ]
  }
 ],
 "metadata": {
  "kernelspec": {
   "display_name": "Python 3 (ipykernel)",
   "language": "python",
   "name": "python3"
  },
  "language_info": {
   "codemirror_mode": {
    "name": "ipython",
    "version": 3
   },
   "file_extension": ".py",
   "mimetype": "text/x-python",
   "name": "python",
   "nbconvert_exporter": "python",
   "pygments_lexer": "ipython3",
   "version": "3.10.4"
  }
 },
 "nbformat": 4,
 "nbformat_minor": 5
}
