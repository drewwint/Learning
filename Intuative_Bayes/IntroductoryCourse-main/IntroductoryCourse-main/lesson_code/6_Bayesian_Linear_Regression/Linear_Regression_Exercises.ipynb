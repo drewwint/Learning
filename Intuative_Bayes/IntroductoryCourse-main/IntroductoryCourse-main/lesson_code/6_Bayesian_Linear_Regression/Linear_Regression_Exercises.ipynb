{
 "cells": [
  {
   "cell_type": "markdown",
   "id": "57453d1f",
   "metadata": {},
   "source": [
    "# Linear Regression Exercises"
   ]
  },
  {
   "cell_type": "code",
   "execution_count": 1,
   "id": "bf868823",
   "metadata": {},
   "outputs": [],
   "source": [
    "import arviz as az\n",
    "import matplotlib.pyplot as plt\n",
    "import numpy as np\n",
    "import pandas as pd\n",
    "import pymc as pm\n",
    "import seaborn as sns\n",
    "import scipy\n",
    "from scipy import stats"
   ]
  },
  {
   "cell_type": "markdown",
   "id": "45c04b9e",
   "metadata": {},
   "source": [
    "What do I want people to do\n",
    "\n",
    "* Load palmer penguins\n",
    "* Run a linear regression on weight on just Adelie penguins\n",
    "* Use posterior predictive to understand how many penguins are above X grams\n",
    "* Use two other features to predict penguin mass\n",
    "\n",
    "* Expand regression to all species, just using bill length\n",
    "  * How many beta parameters do we have now?\n",
    "  * What is the slope of each"
   ]
  },
  {
   "cell_type": "markdown",
   "id": "043a0ab1",
   "metadata": {},
   "source": [
    "## Load Penguins Dataset"
   ]
  },
  {
   "cell_type": "code",
   "execution_count": 2,
   "id": "3ddb6bb6",
   "metadata": {},
   "outputs": [],
   "source": [
    "penguins = pd.read_csv(\"https://raw.githubusercontent.com/BayesianModelingandComputationInPython/BookCode_Edition1/main/data/penguins.csv\")"
   ]
  },
  {
   "cell_type": "code",
   "execution_count": 3,
   "id": "ab2dc967",
   "metadata": {},
   "outputs": [
    {
     "data": {
      "text/html": [
       "<div>\n",
       "<style scoped>\n",
       "    .dataframe tbody tr th:only-of-type {\n",
       "        vertical-align: middle;\n",
       "    }\n",
       "\n",
       "    .dataframe tbody tr th {\n",
       "        vertical-align: top;\n",
       "    }\n",
       "\n",
       "    .dataframe thead th {\n",
       "        text-align: right;\n",
       "    }\n",
       "</style>\n",
       "<table border=\"1\" class=\"dataframe\">\n",
       "  <thead>\n",
       "    <tr style=\"text-align: right;\">\n",
       "      <th></th>\n",
       "      <th>species</th>\n",
       "      <th>island</th>\n",
       "      <th>bill_length_mm</th>\n",
       "      <th>bill_depth_mm</th>\n",
       "      <th>flipper_length_mm</th>\n",
       "      <th>body_mass_g</th>\n",
       "      <th>sex</th>\n",
       "      <th>year</th>\n",
       "    </tr>\n",
       "  </thead>\n",
       "  <tbody>\n",
       "    <tr>\n",
       "      <th>0</th>\n",
       "      <td>Adelie</td>\n",
       "      <td>Torgersen</td>\n",
       "      <td>39.1</td>\n",
       "      <td>18.7</td>\n",
       "      <td>181.0</td>\n",
       "      <td>3750.0</td>\n",
       "      <td>male</td>\n",
       "      <td>2007</td>\n",
       "    </tr>\n",
       "    <tr>\n",
       "      <th>1</th>\n",
       "      <td>Adelie</td>\n",
       "      <td>Torgersen</td>\n",
       "      <td>39.5</td>\n",
       "      <td>17.4</td>\n",
       "      <td>186.0</td>\n",
       "      <td>3800.0</td>\n",
       "      <td>female</td>\n",
       "      <td>2007</td>\n",
       "    </tr>\n",
       "    <tr>\n",
       "      <th>2</th>\n",
       "      <td>Adelie</td>\n",
       "      <td>Torgersen</td>\n",
       "      <td>40.3</td>\n",
       "      <td>18.0</td>\n",
       "      <td>195.0</td>\n",
       "      <td>3250.0</td>\n",
       "      <td>female</td>\n",
       "      <td>2007</td>\n",
       "    </tr>\n",
       "    <tr>\n",
       "      <th>3</th>\n",
       "      <td>Adelie</td>\n",
       "      <td>Torgersen</td>\n",
       "      <td>NaN</td>\n",
       "      <td>NaN</td>\n",
       "      <td>NaN</td>\n",
       "      <td>NaN</td>\n",
       "      <td>NaN</td>\n",
       "      <td>2007</td>\n",
       "    </tr>\n",
       "    <tr>\n",
       "      <th>4</th>\n",
       "      <td>Adelie</td>\n",
       "      <td>Torgersen</td>\n",
       "      <td>36.7</td>\n",
       "      <td>19.3</td>\n",
       "      <td>193.0</td>\n",
       "      <td>3450.0</td>\n",
       "      <td>female</td>\n",
       "      <td>2007</td>\n",
       "    </tr>\n",
       "  </tbody>\n",
       "</table>\n",
       "</div>"
      ],
      "text/plain": [
       "  species     island  bill_length_mm  bill_depth_mm  flipper_length_mm  \\\n",
       "0  Adelie  Torgersen            39.1           18.7              181.0   \n",
       "1  Adelie  Torgersen            39.5           17.4              186.0   \n",
       "2  Adelie  Torgersen            40.3           18.0              195.0   \n",
       "3  Adelie  Torgersen             NaN            NaN                NaN   \n",
       "4  Adelie  Torgersen            36.7           19.3              193.0   \n",
       "\n",
       "   body_mass_g     sex  year  \n",
       "0       3750.0    male  2007  \n",
       "1       3800.0  female  2007  \n",
       "2       3250.0  female  2007  \n",
       "3          NaN     NaN  2007  \n",
       "4       3450.0  female  2007  "
      ]
     },
     "execution_count": 3,
     "metadata": {},
     "output_type": "execute_result"
    }
   ],
   "source": [
    "penguins.head()"
   ]
  },
  {
   "cell_type": "markdown",
   "id": "36d26805",
   "metadata": {},
   "source": [
    "### Set random seed\n",
    "Just for reproducibility in this class"
   ]
  },
  {
   "cell_type": "code",
   "execution_count": 4,
   "id": "7bd00065",
   "metadata": {},
   "outputs": [],
   "source": [
    "RANDOM_SEED = 8296\n",
    "np.random.seed(RANDOM_SEED)"
   ]
  },
  {
   "cell_type": "markdown",
   "id": "63f612f6",
   "metadata": {},
   "source": [
    "## Exercise 1: Intercept only regression\n",
    "The Palmer Penguin dataset has been loaded for you. For the first exercise we want to focus just on the Adelie penguins. \n",
    "\n",
    "Specifically we would like you to\n",
    "\n",
    "1. Perform some exploratory data analysis to get a sense of the data\n",
    "2. Filter to only observations Adelie penguins that have *complete* data\n",
    "2. Write the model for an intercept only regression for `body_mass_g`\n",
    "3. Sample from the prior predictive\n",
    "4. Use MCMC sampling to estimate the model parameters\n",
    "5. Using the ArviZ posterior plot, plot the posterior estimates\n",
    "   * What is the 75% HDI for these parameters\n",
    "6. Plot the posterior predictive\n",
    "  * How does it compare to the prior predictive?\n",
    "\n",
    "\n",
    "### Beta Feedback question\n",
    "In Exercise 1 we left some code blocks with commented hints below. Let us know if this helps \"just the right amount\" or is too helpful. The exercises should be challenging, that's how you learn, but we're looking to strike the right balance here! Your feedback will help"
   ]
  },
  {
   "cell_type": "code",
   "execution_count": 5,
   "id": "eaecb1ac",
   "metadata": {},
   "outputs": [],
   "source": [
    "# EDA"
   ]
  },
  {
   "cell_type": "code",
   "execution_count": 6,
   "id": "a4ba4238",
   "metadata": {},
   "outputs": [],
   "source": [
    "# Adelie Filter"
   ]
  },
  {
   "cell_type": "code",
   "execution_count": 7,
   "id": "8cbefaad",
   "metadata": {},
   "outputs": [],
   "source": [
    "# Missing Data Filter"
   ]
  },
  {
   "cell_type": "code",
   "execution_count": 19,
   "id": "492f5456",
   "metadata": {},
   "outputs": [
    {
     "name": "stderr",
     "output_type": "stream",
     "text": [
      "Auto-assigning NUTS sampler...\n",
      "Initializing NUTS using jitter+adapt_diag...\n",
      "Multiprocess sampling (4 chains in 4 jobs)\n",
      "NUTS: [intercept, eps]\n"
     ]
    },
    {
     "data": {
      "text/html": [
       "\n",
       "<style>\n",
       "    /* Turns off some styling */\n",
       "    progress {\n",
       "        /* gets rid of default border in Firefox and Opera. */\n",
       "        border: none;\n",
       "        /* Needs to be in here for Safari polyfill so background images work as expected. */\n",
       "        background-size: auto;\n",
       "    }\n",
       "    .progress-bar-interrupted, .progress-bar-interrupted::-webkit-progress-bar {\n",
       "        background: #F44336;\n",
       "    }\n",
       "</style>\n"
      ],
      "text/plain": [
       "<IPython.core.display.HTML object>"
      ]
     },
     "metadata": {},
     "output_type": "display_data"
    },
    {
     "data": {
      "text/html": [
       "\n",
       "    <div>\n",
       "      <progress value='8000' class='' max='8000' style='width:300px; height:20px; vertical-align: middle;'></progress>\n",
       "      100.00% [8000/8000 00:02<00:00 Sampling 4 chains, 0 divergences]\n",
       "    </div>\n",
       "    "
      ],
      "text/plain": [
       "<IPython.core.display.HTML object>"
      ]
     },
     "metadata": {},
     "output_type": "display_data"
    },
    {
     "name": "stderr",
     "output_type": "stream",
     "text": [
      "Sampling 4 chains for 1_000 tune and 1_000 draw iterations (4_000 + 4_000 draws total) took 13 seconds.\n"
     ]
    },
    {
     "data": {
      "text/html": [
       "\n",
       "<style>\n",
       "    /* Turns off some styling */\n",
       "    progress {\n",
       "        /* gets rid of default border in Firefox and Opera. */\n",
       "        border: none;\n",
       "        /* Needs to be in here for Safari polyfill so background images work as expected. */\n",
       "        background-size: auto;\n",
       "    }\n",
       "    .progress-bar-interrupted, .progress-bar-interrupted::-webkit-progress-bar {\n",
       "        background: #F44336;\n",
       "    }\n",
       "</style>\n"
      ],
      "text/plain": [
       "<IPython.core.display.HTML object>"
      ]
     },
     "metadata": {},
     "output_type": "display_data"
    },
    {
     "data": {
      "text/html": [
       "\n",
       "    <div>\n",
       "      <progress value='4000' class='' max='4000' style='width:300px; height:20px; vertical-align: middle;'></progress>\n",
       "      100.00% [4000/4000 00:01<00:00]\n",
       "    </div>\n",
       "    "
      ],
      "text/plain": [
       "<IPython.core.display.HTML object>"
      ]
     },
     "metadata": {},
     "output_type": "display_data"
    }
   ],
   "source": [
    "# Model, including prior predictive"
   ]
  },
  {
   "cell_type": "code",
   "execution_count": 1,
   "id": "d5336fe9",
   "metadata": {},
   "outputs": [],
   "source": [
    "# Plot Prior predictive"
   ]
  },
  {
   "cell_type": "code",
   "execution_count": null,
   "id": "806e3783",
   "metadata": {},
   "outputs": [],
   "source": [
    "# Sample from model"
   ]
  },
  {
   "cell_type": "code",
   "execution_count": null,
   "id": "0d86d479",
   "metadata": {},
   "outputs": [],
   "source": [
    "# Plot Posterior"
   ]
  },
  {
   "cell_type": "code",
   "execution_count": 2,
   "id": "522219b5",
   "metadata": {},
   "outputs": [],
   "source": [
    "# Sample from posterior predictive"
   ]
  },
  {
   "cell_type": "code",
   "execution_count": null,
   "id": "d1bbd376",
   "metadata": {},
   "outputs": [],
   "source": [
    "# Plot Posterior Predictive"
   ]
  },
  {
   "cell_type": "markdown",
   "id": "9e6f1c15",
   "metadata": {},
   "source": [
    "## Exercise 2: Adding Regressors\n",
    "\n",
    "Still using the Adelie dataset perform two regressions. [This diagram](https://github.com/allisonhorst/palmerpenguins#bill-dimensions) will give you an intuition for what each means.\n",
    "\n",
    "From a code perspective be sure to use dims and coords!\n",
    "\n",
    "_Hint_: In plotting the posterior the `var_names` argument is quite helpful to focus on what you plots you care about\n",
    "\n",
    "1. Perform a regression with `bill_length_mm` only\n",
    "2. Perform a regression with `bill_length_mm` and `bill_depth_mm`\n",
    "\n",
    "For each regression plot the posterior parameters  "
   ]
  },
  {
   "cell_type": "markdown",
   "id": "c8658d51",
   "metadata": {},
   "source": [
    "## Exercise 3: Multiple Species\n",
    "In this exercise we'll introduce all the species and perform a regression for each.\n",
    "\n",
    "* Expand the regression to include all penguins still using `bill_length_mm` and `bill_depth_mm` as the regressors\n",
    "* Plot the posterior distribution. Verify the slopes for the Adelie penguins are the same as the previous model\n",
    "  * `Hint`: the `.sel` xarray slicing will be helpful here"
   ]
  }
 ],
 "metadata": {
  "kernelspec": {
   "display_name": "Python 3 (ipykernel)",
   "language": "python",
   "name": "python3"
  },
  "language_info": {
   "codemirror_mode": {
    "name": "ipython",
    "version": 3
   },
   "file_extension": ".py",
   "mimetype": "text/x-python",
   "name": "python",
   "nbconvert_exporter": "python",
   "pygments_lexer": "ipython3",
   "version": "3.11.8"
  }
 },
 "nbformat": 4,
 "nbformat_minor": 5
}
